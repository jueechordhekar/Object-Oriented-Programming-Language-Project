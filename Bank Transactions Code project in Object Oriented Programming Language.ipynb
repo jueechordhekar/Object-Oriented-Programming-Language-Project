{
 "cells": [
  {
   "cell_type": "markdown",
   "id": "8291cb93",
   "metadata": {},
   "source": [
    "# WHAT THE CODE DOES\n",
    "\n",
    "1) ENTERING PERSONAL DETAILS OF CUSTOMERS\n",
    "\n",
    "2) DEPOSITING AMOUNTS\n",
    "\n",
    "3) WITHDRAWING FUNDS\n",
    "\n",
    "4) SHOWING BALANCE IN ACCOUNT\n",
    "\n",
    "5) DISPLAYING COMPLETE DETAILS OF THE USER"
   ]
  },
  {
   "cell_type": "code",
   "execution_count": 2,
   "id": "b771dc77",
   "metadata": {},
   "outputs": [
    {
     "name": "stdout",
     "output_type": "stream",
     "text": [
      "Account balance has been updated :RS 100\n",
      "Account balance has been updated :RS 300\n",
      "Account balance has been updated :RS 1000\n",
      "Account balance has been updated :RS 900\n",
      "Account balance has been updated :RS 850\n",
      "Personal Details :\n",
      "Name:  Juee\n",
      "Age:  21\n",
      "Gender:  Female\n",
      "Account balance :RS 850\n"
     ]
    }
   ],
   "source": [
    "# parent class\n",
    "class user:\n",
    "    def __init__(self,name,age,gender):\n",
    "        self.name=name\n",
    "        self.age=age\n",
    "        self.gender=gender\n",
    "        \n",
    "    def show_details(self):\n",
    "        print(\"Personal Details :\")\n",
    "        print(\"Name: \",self.name)\n",
    "        print(\"Age: \",self.age)\n",
    "        print(\"Gender: \",self.gender)\n",
    " \n",
    " # child class\n",
    "class bank(user):\n",
    "    def __init__(self,name,age,gender):\n",
    "        super().__init__(name,age,gender)\n",
    "        self.balance=0\n",
    "        \n",
    "    def deposite(self,amount):\n",
    "        self.amount=amount\n",
    "        self.balance=self.balance + self.amount\n",
    "        print(\"Account balance has been updated :RS\",self.balance)\n",
    "        \n",
    "        \n",
    "    def withdraw(self,amount):\n",
    "        self.amount=amount\n",
    "        if self.amount > self.balance:\n",
    "            print(\"insufficient fund | balance available :RS\",self.balance)\n",
    "            \n",
    "        else:\n",
    "            self.balance=self.balance - self.amount\n",
    "            print(\"Account balance has been updated :RS\",self.balance)\n",
    "\n",
    "            \n",
    "    def view_balance(self):\n",
    "        print(\"Account balance :RS\",self.balance)\n",
    "\n",
    "        \n",
    "obj=bank(\"Juee\",21,\"Female\") \n",
    "\n",
    "obj.deposite(100)\n",
    "obj.deposite(200)\n",
    "obj.deposite(700)\n",
    "\n",
    "obj.withdraw(100)\n",
    "obj.withdraw(50) \n",
    "\n",
    "obj.show_details()\n",
    "\n",
    "obj.view_balance()"
   ]
  },
  {
   "cell_type": "code",
   "execution_count": null,
   "id": "4ad3b40f",
   "metadata": {},
   "outputs": [],
   "source": []
  }
 ],
 "metadata": {
  "kernelspec": {
   "display_name": "Python 3 (ipykernel)",
   "language": "python",
   "name": "python3"
  },
  "language_info": {
   "codemirror_mode": {
    "name": "ipython",
    "version": 3
   },
   "file_extension": ".py",
   "mimetype": "text/x-python",
   "name": "python",
   "nbconvert_exporter": "python",
   "pygments_lexer": "ipython3",
   "version": "3.9.13"
  }
 },
 "nbformat": 4,
 "nbformat_minor": 5
}
